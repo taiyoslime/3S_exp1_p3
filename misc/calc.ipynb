{
 "cells": [
  {
   "cell_type": "code",
   "execution_count": 60,
   "metadata": {},
   "outputs": [
    {
     "data": {
      "text/plain": [
       "(0.001835724944610539, 8.490836636481072e-10, 0.0015906899942262573)"
      ]
     },
     "execution_count": 60,
     "metadata": {},
     "output_type": "execute_result"
    }
   ],
   "source": [
    "\"\"\"\n",
    "課題(3) LPF\n",
    "\"\"\"\n",
    "import sympy\n",
    "import math\n",
    "\"\"\"\n",
    "# butter\n",
    "a_1 = 1.5\n",
    "a_2 = 0.5\n",
    "b_1 = 4/3\n",
    "\"\"\"\n",
    "\n",
    "\n",
    "# chebyshev\n",
    "a_1 = 2.30684\n",
    "b_1 = 1.06699\n",
    "a_2 = 1.99892\n",
    "\n",
    "\n",
    "f = 200000\n",
    "R = 1000\n",
    "\n",
    "omega_c = f * 2 * math.pi\n",
    "\n",
    "l_1 = a_1 * R / omega_c\n",
    "c_1 = b_1 / (omega_c * R)\n",
    "l_2 = a_2 * R / omega_c\n",
    "\n",
    "l_1, c_1, l_2\n"
   ]
  },
  {
   "cell_type": "code",
   "execution_count": 57,
   "metadata": {},
   "outputs": [
    {
     "data": {
      "text/plain": [
       "(5.305164769729845e-10, 0.0005968310365946076, 1.5915494309189535e-09)"
      ]
     },
     "execution_count": 57,
     "metadata": {},
     "output_type": "execute_result"
    }
   ],
   "source": [
    "\"\"\"\n",
    "課題(4) Butterworth HPF\n",
    "\"\"\"\n",
    "import sympy\n",
    "import math\n",
    "\n",
    "\n",
    "a_1 = 1.5\n",
    "a_2 = 0.5\n",
    "b_1 = 4/3\n",
    "\n",
    "\n",
    "f = 200000\n",
    "\n",
    "R = 1000\n",
    "\n",
    "omega_c = f * 2 * math.pi\n",
    "\n",
    "c_1 = 1 / (a_1 * omega_c * R)\n",
    "l_1 = R / (b_1 * omega_c )\n",
    "c_2 = 1 / (a_2 * omega_c * R)\n",
    "\n",
    "c_1, l_1, c_2\n",
    "\n"
   ]
  },
  {
   "cell_type": "code",
   "execution_count": null,
   "metadata": {},
   "outputs": [],
   "source": [
    "\"\"\"\n",
    "f = 200000\n",
    "\n",
    "c_1 = 530p = ( 1000p (1000p + 220p) )\n",
    "l_1 = (1000u 1000u) 100u\n",
    "c_2 = 1500 (220p 220p)\n",
    "\n",
    "\n",
    "R = 120, f = 1000000\n",
    "c_1 = 884p = 470p + 220p + 220p\n",
    "l_1 = 14u = 10u + 4.7u\n",
    "c_2 = 2652p = 1500p + 1000p  \n",
    "\"\"\""
   ]
  },
  {
   "cell_type": "code",
   "execution_count": 20,
   "metadata": {},
   "outputs": [
    {
     "data": {
      "text/plain": [
       "(0.00026525823848649226,\n",
       " 9.54929658551372e-10,\n",
       " 8.841941282883075e-05,\n",
       " 2.8647889756541163e-09,\n",
       " 0.0010742958658702937,\n",
       " 2.35785100876882e-10)"
      ]
     },
     "execution_count": 20,
     "metadata": {},
     "output_type": "execute_result"
    }
   ],
   "source": [
    "\"\"\"\n",
    "課題(5) Butterworth BPF\n",
    "\"\"\"\n",
    "import sympy\n",
    "import math\n",
    "\n",
    "f_1 = 100000\n",
    "f_2 = 1000000\n",
    "\n",
    "a_1 = 1.5\n",
    "a_2 = 0.5\n",
    "b_1 = 4/3\n",
    "\n",
    "R = 1000\n",
    "\n",
    "omega_1 = f_1 * 2 * math.pi\n",
    "omega_2 = f_2 * 2 * math.pi\n",
    "omega_b = omega_2 - omega_1\n",
    "omega_0 = omega_inf = math.sqrt(omega_1 * omega_2)\n",
    "\n",
    "l_1 = a_1 * R / omega_b\n",
    "c_1 = omega_b / (a_1 * omega_0 * omega_0 * R)\n",
    "l_2 = a_2 * R / omega_b\n",
    "c_2 = omega_b / (a_2 * omega_0 * omega_0 * R) \n",
    "l_3 = omega_b * R / (omega_0 * omega_0 * b_1)\n",
    "c_3 = b_1 / (omega_b * R)\n",
    "\n",
    "l_1, c_1, l_2, c_2, l_3, c_3\n"
   ]
  },
  {
   "cell_type": "code",
   "execution_count": null,
   "metadata": {},
   "outputs": [],
   "source": [
    "\"\"\"\n",
    "(1,100)(R=1):\n",
    "(0.0024114385316953836,\n",
    " 0.10504226244065093,\n",
    " 0.0008038128438984613,\n",
    " 0.3151267873219528,\n",
    " 0.11817254524573231,\n",
    " 0.002143500917062563)\n",
    " \"\"\"\n",
    "\"\"\"\n",
    "(100000, 1000000) R = 1000\n",
    "265u =  220u + 22u + 22u \n",
    "954p = 470p + 470p + (14)\n",
    "88u = 68.7u(100u 220u) + 22\n",
    "2860p = 1500p + 1000p + 220p (2720)\n",
    "1074u = 1000u + 68.7u(100u 220u)\n",
    "235p = 220p \n",
    "\"\"\"\n",
    "\n",
    "\n"
   ]
  }
 ],
 "metadata": {
  "kernelspec": {
   "display_name": "Python 3",
   "language": "python",
   "name": "python3"
  },
  "language_info": {
   "codemirror_mode": {
    "name": "ipython",
    "version": 3
   },
   "file_extension": ".py",
   "mimetype": "text/x-python",
   "name": "python",
   "nbconvert_exporter": "python",
   "pygments_lexer": "ipython3",
   "version": "3.6.8"
  }
 },
 "nbformat": 4,
 "nbformat_minor": 2
}
